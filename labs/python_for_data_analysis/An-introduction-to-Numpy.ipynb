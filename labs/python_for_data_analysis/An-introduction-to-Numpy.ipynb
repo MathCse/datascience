{
 "cells": [
  {
   "cell_type": "markdown",
   "metadata": {},
   "source": [
    "# Numpy"
   ]
  },
  {
   "cell_type": "markdown",
   "metadata": {},
   "source": [
    "Unlike Matlab or R, Python is a general purpose programming language that was not designed for scientific computing or data analysis. For this purpose, we have to use the well known NumPy (Numerical Python) package. "
   ]
  },
  {
   "cell_type": "code",
   "execution_count": null,
   "metadata": {
    "collapsed": true
   },
   "outputs": [],
   "source": [
    "import numpy as np\n",
    "\n",
    "def printbl(*args):\n",
    "    print(*args, '\\n')"
   ]
  },
  {
   "cell_type": "markdown",
   "metadata": {},
   "source": [
    "## References\n",
    "\n",
    "* Python for Data Analysis, Chapter 4, by Wes McKinney, O'REILLY\n",
    "* [NumPy Reference](http://docs.scipy.org/doc/numpy-dev/reference/index.html)\n",
    "* [SciPy2017 tutorial: Introduction to Numerical Computing with NumPy](https://github.com/enthought/Numpy-Tutorial-SciPyConf-2017)"
   ]
  },
  {
   "cell_type": "markdown",
   "metadata": {},
   "source": [
    "## Multidimensional Array : ndarray"
   ]
  },
  {
   "cell_type": "markdown",
   "metadata": {},
   "source": [
    "Execute and explain (with comments) what follows. Compare the following thwo cells. What do you conclude from this ?"
   ]
  },
  {
   "cell_type": "code",
   "execution_count": null,
   "metadata": {},
   "outputs": [],
   "source": [
    "data1 = [6, 7.5, 8, 0, 1] \n",
    "print(type(data1))\n",
    "print(type(data1[0]))\n",
    "print(type(data1[1]))"
   ]
  },
  {
   "cell_type": "code",
   "execution_count": null,
   "metadata": {},
   "outputs": [],
   "source": [
    "data2 = np.array([6, 7.5, 8, 0, 1])\n",
    "print(type(data2))\n",
    "print(type(data2[0]))\n",
    "print(type(data2[1]))"
   ]
  },
  {
   "cell_type": "markdown",
   "metadata": {},
   "source": [
    "Compare the following thow cells. What do you conclude from this ?"
   ]
  },
  {
   "cell_type": "code",
   "execution_count": null,
   "metadata": {},
   "outputs": [],
   "source": [
    "data1 * 2"
   ]
  },
  {
   "cell_type": "code",
   "execution_count": null,
   "metadata": {},
   "outputs": [],
   "source": [
    "data2 * 2"
   ]
  },
  {
   "cell_type": "markdown",
   "metadata": {},
   "source": [
    "What is the number of dimensions of the `ndarray` referred by `data4` ?"
   ]
  },
  {
   "cell_type": "code",
   "execution_count": null,
   "metadata": {},
   "outputs": [],
   "source": [
    "data3 = [[1, 2, 3], [4, 5]]\n",
    "data4 = np.array(data3)\n",
    "print(data4)\n",
    "\n",
    "print()\n",
    "print('Data Type :', data4.dtype)\n",
    "print('Shape :', data4.shape)\n",
    "print('Object type :', type(data4[0]))"
   ]
  },
  {
   "cell_type": "markdown",
   "metadata": {},
   "source": [
    "What is the number of dimensions of the `ndarray` referred by `data5` \n",
    "?"
   ]
  },
  {
   "cell_type": "code",
   "execution_count": null,
   "metadata": {},
   "outputs": [],
   "source": [
    "data5 = np.array([[1, 2, 3], [4, 5, 6]])\n",
    "print(data5)\n",
    "\n",
    "print()\n",
    "print('Data Type :', data5.dtype)\n",
    "print('Shape :', data5.shape)\n",
    "print('Object type :', type(data5[0]))"
   ]
  },
  {
   "cell_type": "markdown",
   "metadata": {},
   "source": [
    "Compare and explain the output from the following expressions :"
   ]
  },
  {
   "cell_type": "code",
   "execution_count": null,
   "metadata": {},
   "outputs": [],
   "source": [
    "data4 * 2"
   ]
  },
  {
   "cell_type": "code",
   "execution_count": null,
   "metadata": {},
   "outputs": [],
   "source": [
    "data5 * 2"
   ]
  },
  {
   "cell_type": "markdown",
   "metadata": {},
   "source": [
    "What is the shape of the following `ndarray` ?"
   ]
  },
  {
   "cell_type": "code",
   "execution_count": null,
   "metadata": {},
   "outputs": [],
   "source": [
    "data6 = np.array([[1, 2, 3], [4, 5, 6], [4, 5, 6], [4, 5, 6]])\n",
    "print(data6.ndim)"
   ]
  },
  {
   "cell_type": "markdown",
   "metadata": {},
   "source": [
    "### Exercises\n",
    "\n",
    "* Based on the use of lists, create a 2 dimentional `ndarray` with shape equal to `(2, 5)` that contains all the digits.\n",
    "* Create the same `ndarray` with the help of [`numpy.arange`](https://docs.scipy.org/doc/numpy/reference/generated/numpy.arange.html) and [`reshape`](https://docs.scipy.org/doc/numpy/reference/generated/numpy.reshape.html#numpy.reshape)."
   ]
  },
  {
   "cell_type": "markdown",
   "metadata": {},
   "source": [
    "### Indexing"
   ]
  },
  {
   "cell_type": "code",
   "execution_count": null,
   "metadata": {
    "scrolled": true
   },
   "outputs": [],
   "source": [
    "x = np.arange(10, dtype=np.float64)\n",
    "print('ID :', id(x))\n",
    "\n",
    "x[2:7] = 8.6\n",
    "print(x)\n",
    "\n",
    "print('ID :', id(x))"
   ]
  },
  {
   "cell_type": "markdown",
   "metadata": {},
   "source": [
    "* What is `y.base` refering to ? For which purpose ?\n",
    "* What is the meaning of ` y[:] = 1` ? Why don't we write `y = 1` ?"
   ]
  },
  {
   "cell_type": "code",
   "execution_count": null,
   "metadata": {},
   "outputs": [],
   "source": [
    "y = x[:5]\n",
    "\n",
    "print('IDs :', id(x), id(y), id(y.base))\n",
    "\n",
    "y[::2] = 1.12\n",
    "\n",
    "print(x)\n",
    "print(y)\n",
    "\n",
    "y[:] = 1\n",
    "\n",
    "print(x)"
   ]
  },
  {
   "cell_type": "code",
   "execution_count": null,
   "metadata": {},
   "outputs": [],
   "source": [
    "arr2d = np.array([[1, 2, 3], [4, 5, 6], [7, 8, 9]])\n",
    "print(arr2d[0][2], 'is equivalent to', arr2d[0, 2])"
   ]
  },
  {
   "cell_type": "code",
   "execution_count": null,
   "metadata": {},
   "outputs": [],
   "source": [
    "arr2d = np.arange(15).reshape(3, 5)\n",
    "print(arr2d)\n",
    "\n",
    "print()\n",
    "arr2d[1:, 2:4] = 0\n",
    "print(arr2d)"
   ]
  },
  {
   "cell_type": "markdown",
   "metadata": {},
   "source": [
    "Indexing by arrays of indices (fancy indexing) instead of slicing creates a copy :"
   ]
  },
  {
   "cell_type": "code",
   "execution_count": null,
   "metadata": {},
   "outputs": [],
   "source": [
    "arr2d = np.arange(15).reshape(3, 5)\n",
    "xpos = [1, 2, 2]\n",
    "ypos = [0, 2, 4]\n",
    "x = arr2d[xpos, ypos]\n",
    "print(x)\n",
    "x[:] = 6\n",
    "print(arr2d)"
   ]
  },
  {
   "cell_type": "markdown",
   "metadata": {},
   "source": [
    "Slicing and fancy indexing can be mixed :"
   ]
  },
  {
   "cell_type": "code",
   "execution_count": null,
   "metadata": {},
   "outputs": [],
   "source": [
    "arr2d[1:, [1, 3]]"
   ]
  },
  {
   "cell_type": "markdown",
   "metadata": {},
   "source": [
    "### Exercise\n",
    "\n",
    "Consider the following matrix :\n",
    "\n",
    "$$\n",
    "\\begin{pmatrix}\n",
    "  0 & 1 & 2 & 3 & 4 \\\\\n",
    "  5 & 6 & 7 & 8 & 9 \\\\\n",
    "  10 & 11 & 12 & 13 & 14 \\\\\n",
    "  15 & 16 & 17 & 18 & 19 \\\\\n",
    "  20 & 21 & 22 & 23 & 24 \\\\\n",
    "\\end{pmatrix}\n",
    "$$\n",
    "\n",
    "Create a 2 dimentional numpy array equivalent to this matrix and write expressions allowing to extract the following matrices without creating a copy:\n",
    "\n",
    "$$\n",
    "\\begin{pmatrix}\n",
    "  1 & 2\\\\\n",
    "  6 & 7\\\\\n",
    "  11 & 12\\\\\n",
    "  16 & 17\\\\\n",
    "  21 & 23\\\\\n",
    "\\end{pmatrix},\n",
    "\\begin{pmatrix}\n",
    "  5 & 7\\\\\n",
    "  15 & 17\n",
    "\\end{pmatrix},\n",
    "\\begin{pmatrix}\n",
    "  20 & 21 & 22 & 23 & 24 \\\\\n",
    "\\end{pmatrix}\n",
    "$$\n",
    "\n",
    "Use fancy indexing to create the following matrix :\n",
    "\n",
    "\n",
    "$$\n",
    "\\begin{pmatrix}\n",
    "1 & 7 & 13 & 19\n",
    "\\end{pmatrix}\n",
    "$$"
   ]
  },
  {
   "cell_type": "markdown",
   "metadata": {},
   "source": [
    "### Boolean Indexing"
   ]
  },
  {
   "cell_type": "code",
   "execution_count": null,
   "metadata": {},
   "outputs": [],
   "source": [
    "names = np.array(['Bob', 'Joe', 'Will', 'Bob', 'Will', 'Joe', 'Joe'])\n",
    "data = np.arange(28).reshape(7, 4)\n",
    "print(data, end='\\n\\n')\n",
    "\n",
    "print(names == 'Bob')\n",
    "print(data[names == 'Bob'], end='\\n\\n')\n",
    "\n",
    "print(data[(names == 'Bob') | (names == 'Will')])"
   ]
  },
  {
   "cell_type": "code",
   "execution_count": null,
   "metadata": {},
   "outputs": [],
   "source": [
    "data = np.random.randn(7, 4)\n",
    "print(data)\n",
    "\n",
    "data[data < 0] = 0\n",
    "print()\n",
    "print(data)"
   ]
  },
  {
   "cell_type": "markdown",
   "metadata": {},
   "source": [
    "### Exercise\n",
    "\n",
    "Consider the following matrix :\n",
    "\n",
    "$$\n",
    "\\begin{pmatrix}\n",
    "  0 & 1 & 2 & 3 & 4 \\\\\n",
    "  5 & 6 & 7 & 8 & 9 \\\\\n",
    "  10 & 11 & 12 & 13 & 14 \\\\\n",
    "  15 & 16 & 17 & 18 & 19 \\\\\n",
    "  20 & 21 & 22 & 23 & 24 \\\\\n",
    "\\end{pmatrix}\n",
    "$$\n",
    "\n",
    "Create a 2 dimentional numpy array equivalent to this matrix and use boolean indexing to extract all the odd numbers."
   ]
  },
  {
   "cell_type": "markdown",
   "metadata": {},
   "source": [
    "### Swapping Axes"
   ]
  },
  {
   "cell_type": "code",
   "execution_count": null,
   "metadata": {},
   "outputs": [],
   "source": [
    "X = np.arange(30).reshape((3, 10))\n",
    "print(X)\n",
    "np.swapaxes(X, 0, 1)"
   ]
  },
  {
   "cell_type": "markdown",
   "metadata": {},
   "source": [
    "### Numerical operations (Elementwise)"
   ]
  },
  {
   "cell_type": "code",
   "execution_count": null,
   "metadata": {},
   "outputs": [],
   "source": [
    "X = np.zeros((3,6))\n",
    "print(X)\n",
    "\n",
    "print()\n",
    "\n",
    "X = X + 3\n",
    "print(X)"
   ]
  },
  {
   "cell_type": "code",
   "execution_count": null,
   "metadata": {},
   "outputs": [],
   "source": [
    "Y = np.ones((3,6))\n",
    "X - Y"
   ]
  },
  {
   "cell_type": "code",
   "execution_count": null,
   "metadata": {},
   "outputs": [],
   "source": [
    "x = np.array([1, 2, 3, 1.5])\n",
    "x * 2"
   ]
  },
  {
   "cell_type": "code",
   "execution_count": null,
   "metadata": {},
   "outputs": [],
   "source": [
    "print(np.ones((3,3)) - np.identity(3))"
   ]
  },
  {
   "cell_type": "code",
   "execution_count": null,
   "metadata": {
    "collapsed": true
   },
   "outputs": [],
   "source": [
    "empty_array = np.empty(8, dtype=np.float64)"
   ]
  },
  {
   "cell_type": "code",
   "execution_count": null,
   "metadata": {},
   "outputs": [],
   "source": [
    "x = np.arange(10)\n",
    "print(id(x))\n",
    "x **= 2\n",
    "print(id(x))\n",
    "print(x)\n",
    "x = x ** 2\n",
    "print(id(x))\n",
    "print(x)"
   ]
  },
  {
   "cell_type": "code",
   "execution_count": null,
   "metadata": {},
   "outputs": [],
   "source": [
    "X = np.arange(15).reshape((3, 5))\n",
    "printbl(X, )\n",
    "printbl(X * X) # Not matrix multiplication\n",
    "printbl(np.dot(X, X.T)) # Use transoposing\n",
    "printbl(np.sqrt(X))"
   ]
  },
  {
   "cell_type": "markdown",
   "metadata": {},
   "source": [
    "### Exercises\n",
    "\n",
    "Use the previous operations to verify the following properties for two randomly generated square matrices $A$, $B$ fo order 4 and scalar c (see, [https://en.wikipedia.org/wiki/Transpose](https://en.wikipedia.org/wiki/Transpose)):\n",
    "\n",
    "1. $(A^T)^T = A$\n",
    "1. $(A + B)^T = A^T + B^T$\n",
    "1. $(AB)^T = B^TA^T$\n",
    "1. $(cA)^T = cA^T$\n",
    "\n",
    "Does transposing creates a copy ?"
   ]
  },
  {
   "cell_type": "markdown",
   "metadata": {},
   "source": [
    "## Reductions"
   ]
  },
  {
   "cell_type": "markdown",
   "metadata": {},
   "source": [
    "Operations considered in this sections are known as reduction. In other words, these operations produce a single value from a 1D array."
   ]
  },
  {
   "cell_type": "code",
   "execution_count": null,
   "metadata": {},
   "outputs": [],
   "source": [
    "x = np.array([3, 6, 2, 4])\n",
    "np.sum(x)"
   ]
  },
  {
   "cell_type": "code",
   "execution_count": null,
   "metadata": {},
   "outputs": [],
   "source": [
    "x = np.array([3, 6, 2, 4])\n",
    "x.sum()"
   ]
  },
  {
   "cell_type": "code",
   "execution_count": null,
   "metadata": {},
   "outputs": [],
   "source": [
    "X = np.array([[1, 2, 3], [4, 5, 6], [7, 8, 9]])\n",
    "printbl(X)\n",
    "printbl(\"Reduction applied on the flattened array :\", np.sum(X))\n",
    "printbl(\"Sum along the first axis (0), in other words, the reduction applied on columns :\", np.sum(X, axis=0))\n",
    "printbl(\"Sum along the second axis (1) :\", np.sum(X, axis=1))"
   ]
  },
  {
   "cell_type": "code",
   "execution_count": null,
   "metadata": {},
   "outputs": [],
   "source": [
    "x = np.random.randn(100)\n",
    "print((x > 0).any())\n",
    "print((x > 0).all())\n",
    "print(np.all(x > 0))"
   ]
  },
  {
   "cell_type": "markdown",
   "metadata": {},
   "source": [
    "### Exercises\n",
    "\n",
    "Let us consider the following array : `a = np.arange(-15, 15).reshape(5, 6) ** 2` and compute :\n",
    "\n",
    "* The maximum of each row\n",
    "* The mean of each column (see, [https://docs.scipy.org/doc/numpy/reference/generated/numpy.mean.html](https://docs.scipy.org/doc/numpy/reference/generated/numpy.mean.html))"
   ]
  },
  {
   "cell_type": "markdown",
   "metadata": {},
   "source": [
    "### Sorting and Searching (see [here](http://docs.scipy.org/doc/numpy/reference/routines.sort.html))"
   ]
  },
  {
   "cell_type": "code",
   "execution_count": null,
   "metadata": {},
   "outputs": [],
   "source": [
    "x = np.random.randn(1000)\n",
    "print(np.sort(x)[-1])\n",
    "print(np.max(x))"
   ]
  },
  {
   "cell_type": "code",
   "execution_count": null,
   "metadata": {},
   "outputs": [],
   "source": [
    "x = np.random.randn(4, 4)\n",
    "printbl(x)\n",
    "np.where(x > 0, 2, -2)"
   ]
  },
  {
   "cell_type": "code",
   "execution_count": null,
   "metadata": {},
   "outputs": [],
   "source": [
    "x = np.random.randn(4, 4)\n",
    "printbl(x)\n",
    "np.where(x < 0, 0, x)"
   ]
  },
  {
   "cell_type": "code",
   "execution_count": null,
   "metadata": {},
   "outputs": [],
   "source": [
    "X = np.random.randn(2,5) * 0.1 + 10\n",
    "printbl(X)\n",
    "printbl(np.argmin(X)) # returns the index in the flattened array\n",
    "printbl(np.argmin(X, axis=0)) # indices with respect to the first axis\n",
    "printbl(np.argmin(X, axis=1)) # indices with respect to the second axis"
   ]
  },
  {
   "cell_type": "markdown",
   "metadata": {},
   "source": [
    "## Exercises"
   ]
  },
  {
   "cell_type": "markdown",
   "metadata": {},
   "source": [
    "##### Based on the use of the `%timeit` magic command (see, [http://ipython.readthedocs.io/en/stable/interactive/magics.html#magic-timeit](http://ipython.readthedocs.io/en/stable/interactive/magics.html#magic-timeit)), compare the performance of the sum of  elements of `np.arange(1000)` (with the numpy.sum()` mathematical function) and `range(1000)` (with built-in `sum()` function)."
   ]
  },
  {
   "cell_type": "code",
   "execution_count": 154,
   "metadata": {
    "collapsed": true
   },
   "outputs": [],
   "source": [
    "a = np.arange(1000)\n",
    "l = range(1000)"
   ]
  },
  {
   "cell_type": "markdown",
   "metadata": {},
   "source": [
    "##### Without the use of control flow statements, replace all the values of the following matrix that are not in the intervale $[\\mu - \\sigma, \\mu + \\sigma]$ by zero (see, [statistics](http://docs.scipy.org/doc/numpy/reference/routines.statistics.html)). "
   ]
  },
  {
   "cell_type": "code",
   "execution_count": null,
   "metadata": {
    "collapsed": true
   },
   "outputs": [],
   "source": [
    "X = np.random.randn(5, 4)"
   ]
  },
  {
   "cell_type": "markdown",
   "metadata": {},
   "source": [
    "##### Write a function to compute the median of the following two arrays without the use of [numpy.median](http://docs.scipy.org/doc/numpy-dev/reference/generated/numpy.median.html). Compare your result with the value returned by numpy.median."
   ]
  },
  {
   "cell_type": "code",
   "execution_count": null,
   "metadata": {
    "collapsed": true
   },
   "outputs": [],
   "source": [
    "x = np.random.randn(1001)\n",
    "y = np.random.randn(1000)"
   ]
  },
  {
   "cell_type": "markdown",
   "metadata": {},
   "source": [
    "##### Without the use of control flow statements, determine the indices along the two axis of the first maximal element in the following matrix. "
   ]
  },
  {
   "cell_type": "code",
   "execution_count": null,
   "metadata": {
    "collapsed": true
   },
   "outputs": [],
   "source": [
    "X = np.random.randn(5, 8)"
   ]
  },
  {
   "cell_type": "markdown",
   "metadata": {},
   "source": [
    "##### Without the use of control flow statements, compute the mean of each variable from the following data matrix (D) (see, [numpy.mean](http://docs.scipy.org/doc/numpy/reference/generated/numpy.mean.html#numpy.mean))."
   ]
  },
  {
   "cell_type": "code",
   "execution_count": null,
   "metadata": {
    "collapsed": true
   },
   "outputs": [],
   "source": [
    "D = np.random.randn(5, 4)\n",
    "\n",
    "print(D)\n",
    "\n",
    "for i in range(4):\n",
    "    data_i = D[:,i]\n",
    "    print(\"Data from variable {} : {} (mean : {})\".format(i, data_i, np.mean(data_i)))"
   ]
  },
  {
   "cell_type": "markdown",
   "metadata": {},
   "source": [
    "###### What is the difference between np.random.randn() and np.random.rand() ?"
   ]
  },
  {
   "cell_type": "markdown",
   "metadata": {},
   "source": [
    "###### Use routines from numpy.linalg (see [Linear algebra](http://docs.scipy.org/doc/numpy/reference/routines.linalg.html)) to solve the following system of equations (from [System of linear equations ](https://en.wikipedia.org/wiki/System_of_linear_equations)) :  $$ \\begin{alignat}{7} 3x &&\\; + \\;&& 2y             &&\\; - \\;&& z  &&\\; = \\;&& 1 & \\\\ 2x &&\\; - \\;&& 2y             &&\\; + \\;&& 4z &&\\; = \\;&& -2 & \\\\ -x &&\\; + \\;&& \\tfrac{1}{2} y &&\\; - \\;&& z  &&\\; = \\;&& 0 & \\end{alignat} $$"
   ]
  },
  {
   "cell_type": "markdown",
   "metadata": {},
   "source": [
    "###### Complete the following code by using routines from numpy.linalg to determine a line of equation $y = mx + p$ that fits the given data points."
   ]
  },
  {
   "cell_type": "code",
   "execution_count": null,
   "metadata": {
    "collapsed": true
   },
   "outputs": [],
   "source": [
    "import numpy as np\n",
    "%matplotlib inline\n",
    "import matplotlib.pyplot as plt\n",
    "\n",
    "x = np.arange(-0.5, 0.5, 0.01)\n",
    "y = (2 * x + 3) + np.random.randn(100) * 0.1\n",
    "\n",
    "plt.plot(x, y, 'o', label='Original data', markersize=5)\n",
    "    "
   ]
  }
 ],
 "metadata": {
  "anaconda-cloud": {},
  "kernelspec": {
   "display_name": "Python 3",
   "language": "python",
   "name": "python3"
  },
  "language_info": {
   "codemirror_mode": {
    "name": "ipython",
    "version": 3
   },
   "file_extension": ".py",
   "mimetype": "text/x-python",
   "name": "python",
   "nbconvert_exporter": "python",
   "pygments_lexer": "ipython3",
   "version": "3.6.2"
  }
 },
 "nbformat": 4,
 "nbformat_minor": 1
}
