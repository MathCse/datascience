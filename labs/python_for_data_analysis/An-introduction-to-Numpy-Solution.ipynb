{
 "cells": [
  {
   "cell_type": "markdown",
   "metadata": {},
   "source": [
    "# Numpy : Solutions to selected exercises"
   ]
  },
  {
   "cell_type": "markdown",
   "metadata": {},
   "source": [
    "##### Compare the performance of the sum of  elements of `np.arange(1000)` (with the `sum()` mathematical function) and `range(1000)` (with a standard python for loop)."
   ]
  },
  {
   "cell_type": "code",
   "execution_count": null,
   "metadata": {},
   "outputs": [],
   "source": [
    "a = np.arange(1000)\n",
    "l = range(1000)\n",
    "\n",
    "def sum(values):\n",
    "    result = 0\n",
    "    for x in values:\n",
    "        result += x\n",
    "    return result\n",
    "          \n",
    "%timeit -n 100 a.sum()\n",
    "          \n",
    "%timeit -n 100 sum(l)"
   ]
  },
  {
   "cell_type": "markdown",
   "metadata": {},
   "source": [
    "##### Without the use of control flow statements, replace all the values of the following matrix that are not in the interval $[\\mu - \\sigma, \\mu + \\sigma]$ by 0 (see, [statistics](http://docs.scipy.org/doc/numpy/reference/routines.statistics.html)). "
   ]
  },
  {
   "cell_type": "code",
   "execution_count": null,
   "metadata": {
    "scrolled": true
   },
   "outputs": [],
   "source": [
    "X = np.random.randn(5, 4)\n",
    "\n",
    "mu = np.mean(X)\n",
    "sigma = np.std(X)\n",
    "\n",
    "print(X)\n",
    "print()\n",
    "print(mu - sigma, mu + sigma)\n",
    "print()\n",
    "print((X < mu - sigma) | (X > mu + sigma))\n",
    "print()\n",
    "X[(X < mu - sigma) | (X > mu + sigma)] = 0\n",
    "print(X)"
   ]
  },
  {
   "cell_type": "markdown",
   "metadata": {},
   "source": [
    "##### Write a function to compute the median of the following two arrays without the use of [numpy.median](http://docs.scipy.org/doc/numpy-dev/reference/generated/numpy.median.html). Compare your result with the value returned by numpy.median."
   ]
  },
  {
   "cell_type": "code",
   "execution_count": null,
   "metadata": {},
   "outputs": [],
   "source": [
    "def median(data):\n",
    "    data_sorted = np.sort(data)\n",
    "    N = len(data)\n",
    "    if N % 2 == 0:\n",
    "        return (data_sorted[N//2] + data_sorted[N//2 - 1])/2\n",
    "    else:\n",
    "        return data_sorted[(N-1)//2]\n",
    "    \n",
    "x = np.random.randn(1001)\n",
    "\n",
    "print(\"median(x) : \", median(x), \", np.median(x) : \", np.median(x))\n",
    "\n",
    "y = np.random.randn(1000)\n",
    "\n",
    "print(\"median(y) : \", median(y), \", np.median(y) : \", np.median(y))"
   ]
  },
  {
   "cell_type": "markdown",
   "metadata": {},
   "source": [
    "##### Without the use of control flow statements, determine the indices along the two axis of the first maximal element in the following matrix. "
   ]
  },
  {
   "cell_type": "code",
   "execution_count": null,
   "metadata": {},
   "outputs": [],
   "source": [
    "X = np.random.randn(5, 6)\n",
    "printbl(X)\n",
    "printbl(np.argmax(X, axis=0))\n",
    "printbl(np.argmax(X, axis=1))"
   ]
  },
  {
   "cell_type": "markdown",
   "metadata": {},
   "source": [
    "##### Without the use of control flow statements, compute the mean of each variable from the following data matrix (D) (see, [numpy.mean](http://docs.scipy.org/doc/numpy/reference/generated/numpy.mean.html#numpy.mean))."
   ]
  },
  {
   "cell_type": "code",
   "execution_count": null,
   "metadata": {},
   "outputs": [],
   "source": [
    "D = np.random.randn(5, 4)\n",
    "\n",
    "printbl(D)\n",
    "\n",
    "for i in range(4):\n",
    "    data_i = D[:,i]\n",
    "    printbl(\"Data from variable {} : {} (mean : {})\".format(i, data_i, np.mean(data_i)))\n",
    "    \n",
    "np.mean(D, axis=0)"
   ]
  },
  {
   "cell_type": "markdown",
   "metadata": {},
   "source": [
    "###### What is the difference between [np.random.randn()](http://docs.scipy.org/doc/numpy/reference/generated/numpy.random.randn.html) and [np.random.rand()](http://docs.scipy.org/doc/numpy/reference/generated/numpy.random.rand.html) ?"
   ]
  },
  {
   "cell_type": "markdown",
   "metadata": {},
   "source": [
    "###### Use routines from numpy.linalg (see [Linear algebra](http://docs.scipy.org/doc/numpy/reference/routines.linalg.html)) to solve the following system of equations (from [System of linear equations ](https://en.wikipedia.org/wiki/System_of_linear_equations)) :  $$ \\begin{alignat}{7} 3x &&\\; + \\;&& 2y             &&\\; - \\;&& z  &&\\; = \\;&& 1 & \\\\ 2x &&\\; - \\;&& 2y             &&\\; + \\;&& 4z &&\\; = \\;&& -2 & \\\\ -x &&\\; + \\;&& \\tfrac{1}{2} y &&\\; - \\;&& z  &&\\; = \\;&& 0 & \\end{alignat} $$"
   ]
  },
  {
   "cell_type": "code",
   "execution_count": null,
   "metadata": {},
   "outputs": [],
   "source": [
    "A = np.array([[3, 2, -1],\n",
    "              [2, -2, 4],\n",
    "              [-1, 0.5, -1]])\n",
    "\n",
    "b = np.array([1, -2, 0])\n",
    "\n",
    "x = np.linalg.solve(A, b)\n",
    "\n",
    "print(x)"
   ]
  },
  {
   "cell_type": "markdown",
   "metadata": {},
   "source": [
    "###### Complete the following code by using routines from [numpy.linalg](http://docs.scipy.org/doc/numpy/reference/routines.linalg.html) to determine a line of equation $y = mx + p$ that fits the given data points."
   ]
  },
  {
   "cell_type": "code",
   "execution_count": null,
   "metadata": {},
   "outputs": [],
   "source": [
    "import numpy as np\n",
    "%matplotlib inline\n",
    "import matplotlib.pyplot as plt\n",
    "\n",
    "x = np.arange(-0.5, 0.5, 0.01)\n",
    "y = (2 * x + 3) + np.random.randn(100) * 0.1\n",
    "\n",
    "plt.plot(x, y, 'o', label='Original data', markersize=5)\n",
    "\n",
    "A = np.array([x, np.ones(100)]).T\n",
    "m, p = np.linalg.lstsq(A, y)[0]\n",
    "\n",
    "plt.plot(x, m*x + p, 'r', label='Fitted line')"
   ]
  }
 ],
 "metadata": {
  "anaconda-cloud": {},
  "kernelspec": {
   "display_name": "Python 3",
   "language": "python",
   "name": "python3"
  },
  "language_info": {
   "codemirror_mode": {
    "name": "ipython",
    "version": 3
   },
   "file_extension": ".py",
   "mimetype": "text/x-python",
   "name": "python",
   "nbconvert_exporter": "python",
   "pygments_lexer": "ipython3",
   "version": "3.6.2"
  }
 },
 "nbformat": 4,
 "nbformat_minor": 1
}
