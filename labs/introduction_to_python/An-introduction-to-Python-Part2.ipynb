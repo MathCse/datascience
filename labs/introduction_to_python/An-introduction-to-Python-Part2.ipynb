{
 "cells": [
  {
   "cell_type": "markdown",
   "metadata": {},
   "source": [
    "### Classes"
   ]
  },
  {
   "cell_type": "code",
   "execution_count": null,
   "metadata": {
    "collapsed": true
   },
   "outputs": [],
   "source": [
    "import math\n",
    "\n",
    "class Point:\n",
    "    \"\"\"\n",
    "    Represents a point in the two-dimensional Euclidean plane.\n",
    "    \n",
    "    :param x: \n",
    "        the first coordinate\n",
    "        \n",
    "    :param y: \n",
    "        the second coordinate\n",
    "    \"\"\"\n",
    "    \n",
    "    def __init__(self, x, y):\n",
    "        self.x = x\n",
    "        self.y = y\n",
    "        \n",
    "    def distance(self, other_point):\n",
    "        \"\"\"\n",
    "        Returns the euclidean distance from the point refered by other_point to itself.\n",
    "        \"\"\"\n",
    "        return math.sqrt((self.x - other_point.x)**2 + (self.y - other_point.y)**2)\n",
    "\n",
    "p1 = Point(x=7.4, y=2.0)\n",
    "\n",
    "p2 = Point(x=1.4, y=0.8)\n",
    "\n",
    "print(p1.distance(p2))\n",
    "print(Point.distance(p1, p2))\n",
    "\n",
    "p3 = Point(x=7.4, y=2.0)\n",
    "\n",
    "print(p1 == p3)\n",
    "\n",
    "print(p1.__dict__['x'], p1.__dict__['y'])"
   ]
  },
  {
   "cell_type": "code",
   "execution_count": null,
   "metadata": {
    "collapsed": true
   },
   "outputs": [],
   "source": [
    "help(Point)"
   ]
  },
  {
   "cell_type": "code",
   "execution_count": null,
   "metadata": {
    "collapsed": true
   },
   "outputs": [],
   "source": [
    "class Dice:\n",
    "    faces = [1, 2, 3, 4, 5, 6]\n",
    "    \n",
    "d1 = Dice()\n",
    "d2 = Dice()\n",
    "\n",
    "print(d1.faces == d2.faces)\n",
    "print(d1.faces is d2.faces)\n",
    "\n",
    "d1.faces = [1, 2, 3]\n",
    "\n",
    "print(d1.faces)\n",
    "print(d2.faces)\n",
    "print(d1.faces is d2.faces)"
   ]
  },
  {
   "cell_type": "code",
   "execution_count": null,
   "metadata": {
    "collapsed": true
   },
   "outputs": [],
   "source": [
    "class Dice:\n",
    "    faces = [1, 2, 3, 4, 5, 6]\n",
    "    \n",
    "d1 = Dice()\n",
    "d2 = Dice()\n",
    "\n",
    "print(d1.faces == d2.faces)\n",
    "print(d1.faces is d2.faces)\n",
    "\n",
    "Dice.faces = [1, 2, 3]\n",
    "\n",
    "print(d1.faces)\n",
    "print(d2.faces)\n",
    "print(d1.faces is d2.faces)"
   ]
  },
  {
   "cell_type": "code",
   "execution_count": null,
   "metadata": {
    "collapsed": true
   },
   "outputs": [],
   "source": [
    "class Dice:\n",
    "    faces = [1, 2, 3, 4, 5, 6]\n",
    "    \n",
    "    def set_faces(faces):\n",
    "        Dice.faces = faces\n",
    "    \n",
    "d1 = Dice()\n",
    "d2 = Dice()\n",
    "\n",
    "print(d1.faces == d2.faces)\n",
    "print(d1.faces is d2.faces)\n",
    "\n",
    "Dice.set_faces([1, 2, 3])\n",
    "\n",
    "print(d1.faces)\n",
    "print(d2.faces)\n",
    "print(d1.faces is d2.faces)"
   ]
  },
  {
   "cell_type": "code",
   "execution_count": null,
   "metadata": {
    "collapsed": true
   },
   "outputs": [],
   "source": [
    "class Dice:\n",
    "    faces = [1, 2, 3, 4, 5, 6]\n",
    "    \n",
    "    def set_faces(self, faces): # self is a variable that refers to an instance of Dice\n",
    "        self.faces = faces\n",
    "    \n",
    "d1 = Dice()\n",
    "d2 = Dice()\n",
    "\n",
    "print(d1.faces == d2.faces)\n",
    "print(d1.faces is d2.faces)\n",
    "\n",
    "d1.set_faces([1, 2, 3]) # This is equivalent to Dice.set_faces(d1, [1, 2, 3])\n",
    "\n",
    "print(d1.faces)\n",
    "print(d2.faces)\n",
    "print(d1.faces is d2.faces)"
   ]
  },
  {
   "cell_type": "code",
   "execution_count": null,
   "metadata": {
    "collapsed": true
   },
   "outputs": [],
   "source": [
    "class Dice:\n",
    "    faces = [1, 2, 3, 4, 5, 6]\n",
    "    \n",
    "d1 = Dice()\n",
    "d2 = Dice()\n",
    "\n",
    "print(d1.faces == d2.faces)\n",
    "print(d1.faces is d2.faces)\n",
    "\n",
    "d1.faces.append(7)\n",
    "\n",
    "print(d1.faces)\n",
    "print(d2.faces)\n",
    "print(d1.faces is d2.faces)"
   ]
  },
  {
   "cell_type": "code",
   "execution_count": null,
   "metadata": {
    "collapsed": true
   },
   "outputs": [],
   "source": [
    "class Dice:\n",
    "    faces = [1, 2, 3, 4, 5, 6]\n",
    "\n",
    "    def __init__(self):\n",
    "        print(\"Init an instance of Dice refered by the self variable\")\n",
    "\n",
    "d1 = Dice()\n",
    "d2 = Dice()"
   ]
  },
  {
   "cell_type": "code",
   "execution_count": null,
   "metadata": {
    "collapsed": true
   },
   "outputs": [],
   "source": [
    "class Dice:\n",
    "    faces = [1, 2, 3, 4, 5, 6]\n",
    "\n",
    "    def __init__(self):\n",
    "        print(\"Init an instance of Dice refered by the self variable\")\n",
    "\n",
    "d1 = Dice.__new__(Dice)\n",
    "d2 = Dice.__new__(Dice)"
   ]
  },
  {
   "cell_type": "code",
   "execution_count": null,
   "metadata": {
    "collapsed": true
   },
   "outputs": [],
   "source": [
    "class Dice:\n",
    "    faces = [1, 2, 3, 4, 5, 6]\n",
    "\n",
    "    def __init__(self):\n",
    "        print(\"Init an instance of Dice refered by the self variable\")\n",
    "\n",
    "d1 = Dice.__new__(Dice).__init__()\n",
    "d2 = Dice.__new__(Dice).__init__()"
   ]
  },
  {
   "cell_type": "code",
   "execution_count": null,
   "metadata": {
    "collapsed": true
   },
   "outputs": [],
   "source": [
    "class Dice:\n",
    "    def __init__(self):\n",
    "        self.faces = [1, 2, 3, 4, 5, 6]\n",
    "\n",
    "d1 = Dice()\n",
    "d2 = Dice()\n",
    "\n",
    "print(d1.faces == d2.faces)\n",
    "print(d1.faces is d2.faces)\n",
    "\n",
    "d1.faces.append(1)\n",
    "\n",
    "print(d1.faces)\n",
    "print(d2.faces)\n",
    "print(d1.faces is d2.faces)"
   ]
  },
  {
   "cell_type": "markdown",
   "metadata": {},
   "source": [
    "#### Exercises"
   ]
  },
  {
   "cell_type": "markdown",
   "metadata": {},
   "source": [
    "* Add the method `equals` to the class `Point` that determines whether or not two points are equal.\n",
    "* Complete the following class definition with the help of the random module (see, https://docs.python.org/3/library/random.html) :"
   ]
  },
  {
   "cell_type": "code",
   "execution_count": null,
   "metadata": {
    "collapsed": true
   },
   "outputs": [],
   "source": [
    "import random\n",
    "\n",
    "class Dice:\n",
    "    \"\"\"\n",
    "    Represents a dice composed of six faces labled from 1 to 6.\n",
    "    \"\"\"\n",
    "    \n",
    "    def __init__(self):\n",
    "        self.face_value = 1\n",
    "        self.dice_values = list(range(1,7))\n",
    "        \n",
    "    def roll(self): pass\n",
    "    \n",
    "    def get_face_value(self): pass\n",
    "\n",
    "d = Dice()\n",
    "print(d.get_face_value())\n",
    "d.roll()\n",
    "print(d.get_face_value())\n",
    "d.roll()\n",
    "print(d.get_face_value())"
   ]
  },
  {
   "cell_type": "markdown",
   "metadata": {},
   "source": [
    "### Generators"
   ]
  },
  {
   "cell_type": "code",
   "execution_count": null,
   "metadata": {
    "collapsed": true
   },
   "outputs": [],
   "source": [
    "def a_generator():\n",
    "    yield 2\n",
    "    yield 4\n",
    "    yield 6\n",
    "\n",
    "iterator = iter(a_generator())\n",
    "    \n",
    "print(next(iterator))\n",
    "print(next(iterator))\n",
    "print(next(iterator))\n",
    "print(next(iterator))"
   ]
  },
  {
   "cell_type": "code",
   "execution_count": null,
   "metadata": {
    "collapsed": true
   },
   "outputs": [],
   "source": [
    "def double_numbers(iterable):\n",
    "    for i in iterable:\n",
    "        yield i + i\n",
    "\n",
    "for i in double_numbers(range(1, 90)):\n",
    "    print(i)\n",
    "    if i >= 30:\n",
    "        break"
   ]
  },
  {
   "cell_type": "markdown",
   "metadata": {},
   "source": [
    "#### Exercises"
   ]
  },
  {
   "cell_type": "markdown",
   "metadata": {},
   "source": [
    "* Write a generator of fibonacci numbers, and use it to generate the 20 first fibonacci numbers."
   ]
  },
  {
   "cell_type": "markdown",
   "metadata": {},
   "source": [
    "### File I/O"
   ]
  },
  {
   "cell_type": "code",
   "execution_count": null,
   "metadata": {
    "collapsed": true
   },
   "outputs": [],
   "source": [
    "# Writing to a file\n",
    "with open(\"example.txt\", \"w\") as f:\n",
    "    f.write(\"Hello World! \\n\")\n",
    "    f.write(\"How are you? \\n\")\n",
    "    f.write(\"I'm fine.\")"
   ]
  },
  {
   "cell_type": "code",
   "execution_count": null,
   "metadata": {
    "collapsed": true
   },
   "outputs": [],
   "source": [
    "ls"
   ]
  },
  {
   "cell_type": "code",
   "execution_count": null,
   "metadata": {
    "collapsed": true
   },
   "outputs": [],
   "source": [
    "# Reading from a file\n",
    "with open(\"example.txt\", \"r\") as f:\n",
    "    data = f.readlines()\n",
    "    for line in data:\n",
    "        words = line.split()\n",
    "        print(words)"
   ]
  },
  {
   "cell_type": "code",
   "execution_count": null,
   "metadata": {
    "collapsed": true
   },
   "outputs": [],
   "source": [
    "# Count lines and words in a file\n",
    "lines = 0\n",
    "words = 0\n",
    "the_file = \"example.txt\"\n",
    "\n",
    "with open(the_file, 'r') as f:\n",
    "    for line in f:\n",
    "        lines += 1\n",
    "        words += len(line.split())\n",
    "        \n",
    "print(\"There are {} lines and {} words in the {} file.\".format(lines, words, the_file))"
   ]
  }
 ],
 "metadata": {
  "anaconda-cloud": {},
  "kernelspec": {
   "display_name": "Python 3",
   "language": "python",
   "name": "python3"
  },
  "language_info": {
   "codemirror_mode": {
    "name": "ipython",
    "version": 3
   },
   "file_extension": ".py",
   "mimetype": "text/x-python",
   "name": "python",
   "nbconvert_exporter": "python",
   "pygments_lexer": "ipython3",
   "version": "3.6.2"
  }
 },
 "nbformat": 4,
 "nbformat_minor": 1
}
