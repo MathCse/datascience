{
 "cells": [
  {
   "cell_type": "markdown",
   "metadata": {},
   "source": [
    "$\\def\\*#1{\\mathbf{#1}}$\n",
    "$\\DeclareMathOperator*{\\argmax}{arg\\,max}$\n",
    "# Data Types"
   ]
  },
  {
   "cell_type": "markdown",
   "metadata": {},
   "source": [
    "## Imports"
   ]
  },
  {
   "cell_type": "code",
   "execution_count": 153,
   "metadata": {},
   "outputs": [
    {
     "name": "stdout",
     "output_type": "stream",
     "text": [
      "Using matplotlib backend: Qt5Agg\n"
     ]
    }
   ],
   "source": [
    "import matplotlib as mpl\n",
    "# pyplot : Provides a MATLAB-like plotting framework\n",
    "import matplotlib.pyplot as plt\n",
    "import numpy as np\n",
    "\n",
    "# %matplotlib notebook\n",
    "%matplotlib"
   ]
  },
  {
   "cell_type": "markdown",
   "metadata": {},
   "source": [
    "## Data Matrix\n",
    "\n",
    "The data set is represented by a $n \\times d$ **data matrix** :\n",
    "\n",
    "$$\n",
    "D = \n",
    "\\begin{pmatrix}\n",
    "  x_{1,1} & x_{1,2} & \\cdots & x_{1,d} \\\\\n",
    "  x_{2,1} & x_{2,2} & \\cdots & x_{2,d} \\\\\n",
    "  \\vdots  & \\vdots  & \\ddots & \\vdots  \\\\\n",
    "  x_{n,1} & x_{n,2} & \\cdots & x_{n,d} \n",
    "\\end{pmatrix}\n",
    "$$\n",
    "\n",
    "* The *i*-th **row** refers, depending on the application, to an *entity*, *instance*, **record**, *transaction*, *alternative*,...\n",
    "\n",
    "$$\\*x_i = (x_{i1}, x_{i1}, \\ldots, x_{id})$$\n",
    "\n",
    "* The *j*-th **column** refers to an *attribute*, **feature**, *dimension*, *criteria*,... \n",
    "\n",
    "$$X_j = (x_{1j}, x_{2j}, \\ldots, x_{nj})$$\n",
    "\n",
    "$$\n",
    "D = \n",
    "\\left(\n",
    "\\begin{array}{c|cccc}\n",
    "        & X_1 & X_2 & \\cdots & X_d\\\\\n",
    "        \\hline\n",
    "  \\*x_1 & x_{1,1} & x_{1,2} & \\cdots & x_{1,d} \\\\\n",
    "  \\*x_2 & x_{2,1} & x_{2,2} & \\cdots & x_{2,d} \\\\\n",
    "  \\vdots & \\vdots  & \\vdots  & \\ddots & \\vdots  \\\\\n",
    "  \\*x_n & x_{n,1} & x_{n,2} & \\cdots & x_{n,d} \n",
    "\\end{array}\n",
    "\\right)\n",
    "$$"
   ]
  },
  {
   "cell_type": "markdown",
   "metadata": {},
   "source": [
    "## Iris Data Set\n",
    "\n",
    " | sepal length (cm) | sepal width (cm) | petal length (cm) | petal width (cm) | Type of iris plant |\n",
    " | ----------------- | ---------------- | ----------------- | ---------------- | ------------------ |\n",
    " | 5.1               | 3.5              | 1.4               | 0.2              | Setosa             |\n",
    " | 4.8               | 3.0              | 1.4               | 0.3              | Setosa             |\n",
    " | 6.0               | 3.4              | 4.5               | 1.6              | Versicolor         |\n",
    " | 6.8               | 3.0              | 5.5               | 2.1              | Virginica          |\n",
    " | 6.7               | 3.1              | 5.6               | 2.4              | Virginica          |"
   ]
  },
  {
   "cell_type": "code",
   "execution_count": 154,
   "metadata": {},
   "outputs": [
    {
     "name": "stdout",
     "output_type": "stream",
     "text": [
      "45300\n",
      "[['SepalLength' 'SepalWidth' 'PetalLength' 'PetalWidth' 'Name']\n",
      " ['5.1' '3.5' '1.4' '0.2' 'Iris-setosa']\n",
      " ['4.9' '3.0' '1.4' '0.2' 'Iris-setosa']\n",
      " ['4.7' '3.2' '1.3' '0.2' 'Iris-setosa']\n",
      " ['4.6' '3.1' '1.5' '0.2' 'Iris-setosa']\n",
      " ['5.0' '3.6' '1.4' '0.2' 'Iris-setosa']\n",
      " ['5.4' '3.9' '1.7' '0.4' 'Iris-setosa']\n",
      " ['4.6' '3.4' '1.4' '0.3' 'Iris-setosa']\n",
      " ['5.0' '3.4' '1.5' '0.2' 'Iris-setosa']\n",
      " ['4.4' '2.9' '1.4' '0.2' 'Iris-setosa']\n",
      " ['4.9' '3.1' '1.5' '0.1' 'Iris-setosa']\n",
      " ['5.4' '3.7' '1.5' '0.2' 'Iris-setosa']\n",
      " ['4.8' '3.4' '1.6' '0.2' 'Iris-setosa']\n",
      " ['4.8' '3.0' '1.4' '0.1' 'Iris-setosa']\n",
      " ['4.3' '3.0' '1.1' '0.1' 'Iris-setosa']\n",
      " ['5.8' '4.0' '1.2' '0.2' 'Iris-setosa']\n",
      " ['5.7' '4.4' '1.5' '0.4' 'Iris-setosa']\n",
      " ['5.4' '3.9' '1.3' '0.4' 'Iris-setosa']\n",
      " ['5.1' '3.5' '1.4' '0.3' 'Iris-setosa']\n",
      " ['5.7' '3.8' '1.7' '0.3' 'Iris-setosa']\n",
      " ['5.1' '3.8' '1.5' '0.3' 'Iris-setosa']\n",
      " ['5.4' '3.4' '1.7' '0.2' 'Iris-setosa']\n",
      " ['5.1' '3.7' '1.5' '0.4' 'Iris-setosa']\n",
      " ['4.6' '3.6' '1.0' '0.2' 'Iris-setosa']\n",
      " ['5.1' '3.3' '1.7' '0.5' 'Iris-setosa']\n",
      " ['4.8' '3.4' '1.9' '0.2' 'Iris-setosa']\n",
      " ['5.0' '3.0' '1.6' '0.2' 'Iris-setosa']\n",
      " ['5.0' '3.4' '1.6' '0.4' 'Iris-setosa']\n",
      " ['5.2' '3.5' '1.5' '0.2' 'Iris-setosa']\n",
      " ['5.2' '3.4' '1.4' '0.2' 'Iris-setosa']\n",
      " ['4.7' '3.2' '1.6' '0.2' 'Iris-setosa']\n",
      " ['4.8' '3.1' '1.6' '0.2' 'Iris-setosa']\n",
      " ['5.4' '3.4' '1.5' '0.4' 'Iris-setosa']\n",
      " ['5.2' '4.1' '1.5' '0.1' 'Iris-setosa']\n",
      " ['5.5' '4.2' '1.4' '0.2' 'Iris-setosa']\n",
      " ['4.9' '3.1' '1.5' '0.1' 'Iris-setosa']\n",
      " ['5.0' '3.2' '1.2' '0.2' 'Iris-setosa']\n",
      " ['5.5' '3.5' '1.3' '0.2' 'Iris-setosa']\n",
      " ['4.9' '3.1' '1.5' '0.1' 'Iris-setosa']\n",
      " ['4.4' '3.0' '1.3' '0.2' 'Iris-setosa']\n",
      " ['5.1' '3.4' '1.5' '0.2' 'Iris-setosa']\n",
      " ['5.0' '3.5' '1.3' '0.3' 'Iris-setosa']\n",
      " ['4.5' '2.3' '1.3' '0.3' 'Iris-setosa']\n",
      " ['4.4' '3.2' '1.3' '0.2' 'Iris-setosa']\n",
      " ['5.0' '3.5' '1.6' '0.6' 'Iris-setosa']\n",
      " ['5.1' '3.8' '1.9' '0.4' 'Iris-setosa']\n",
      " ['4.8' '3.0' '1.4' '0.3' 'Iris-setosa']\n",
      " ['5.1' '3.8' '1.6' '0.2' 'Iris-setosa']\n",
      " ['4.6' '3.2' '1.4' '0.2' 'Iris-setosa']\n",
      " ['5.3' '3.7' '1.5' '0.2' 'Iris-setosa']\n",
      " ['5.0' '3.3' '1.4' '0.2' 'Iris-setosa']\n",
      " ['7.0' '3.2' '4.7' '1.4' 'Iris-versicolor']\n",
      " ['6.4' '3.2' '4.5' '1.5' 'Iris-versicolor']\n",
      " ['6.9' '3.1' '4.9' '1.5' 'Iris-versicolor']\n",
      " ['5.5' '2.3' '4.0' '1.3' 'Iris-versicolor']\n",
      " ['6.5' '2.8' '4.6' '1.5' 'Iris-versicolor']\n",
      " ['5.7' '2.8' '4.5' '1.3' 'Iris-versicolor']\n",
      " ['6.3' '3.3' '4.7' '1.6' 'Iris-versicolor']\n",
      " ['4.9' '2.4' '3.3' '1.0' 'Iris-versicolor']\n",
      " ['6.6' '2.9' '4.6' '1.3' 'Iris-versicolor']\n",
      " ['5.2' '2.7' '3.9' '1.4' 'Iris-versicolor']\n",
      " ['5.0' '2.0' '3.5' '1.0' 'Iris-versicolor']\n",
      " ['5.9' '3.0' '4.2' '1.5' 'Iris-versicolor']\n",
      " ['6.0' '2.2' '4.0' '1.0' 'Iris-versicolor']\n",
      " ['6.1' '2.9' '4.7' '1.4' 'Iris-versicolor']\n",
      " ['5.6' '2.9' '3.6' '1.3' 'Iris-versicolor']\n",
      " ['6.7' '3.1' '4.4' '1.4' 'Iris-versicolor']\n",
      " ['5.6' '3.0' '4.5' '1.5' 'Iris-versicolor']\n",
      " ['5.8' '2.7' '4.1' '1.0' 'Iris-versicolor']\n",
      " ['6.2' '2.2' '4.5' '1.5' 'Iris-versicolor']\n",
      " ['5.6' '2.5' '3.9' '1.1' 'Iris-versicolor']\n",
      " ['5.9' '3.2' '4.8' '1.8' 'Iris-versicolor']\n",
      " ['6.1' '2.8' '4.0' '1.3' 'Iris-versicolor']\n",
      " ['6.3' '2.5' '4.9' '1.5' 'Iris-versicolor']\n",
      " ['6.1' '2.8' '4.7' '1.2' 'Iris-versicolor']\n",
      " ['6.4' '2.9' '4.3' '1.3' 'Iris-versicolor']\n",
      " ['6.6' '3.0' '4.4' '1.4' 'Iris-versicolor']\n",
      " ['6.8' '2.8' '4.8' '1.4' 'Iris-versicolor']\n",
      " ['6.7' '3.0' '5.0' '1.7' 'Iris-versicolor']\n",
      " ['6.0' '2.9' '4.5' '1.5' 'Iris-versicolor']\n",
      " ['5.7' '2.6' '3.5' '1.0' 'Iris-versicolor']\n",
      " ['5.5' '2.4' '3.8' '1.1' 'Iris-versicolor']\n",
      " ['5.5' '2.4' '3.7' '1.0' 'Iris-versicolor']\n",
      " ['5.8' '2.7' '3.9' '1.2' 'Iris-versicolor']\n",
      " ['6.0' '2.7' '5.1' '1.6' 'Iris-versicolor']\n",
      " ['5.4' '3.0' '4.5' '1.5' 'Iris-versicolor']\n",
      " ['6.0' '3.4' '4.5' '1.6' 'Iris-versicolor']\n",
      " ['6.7' '3.1' '4.7' '1.5' 'Iris-versicolor']\n",
      " ['6.3' '2.3' '4.4' '1.3' 'Iris-versicolor']\n",
      " ['5.6' '3.0' '4.1' '1.3' 'Iris-versicolor']\n",
      " ['5.5' '2.5' '4.0' '1.3' 'Iris-versicolor']\n",
      " ['5.5' '2.6' '4.4' '1.2' 'Iris-versicolor']\n",
      " ['6.1' '3.0' '4.6' '1.4' 'Iris-versicolor']\n",
      " ['5.8' '2.6' '4.0' '1.2' 'Iris-versicolor']\n",
      " ['5.0' '2.3' '3.3' '1.0' 'Iris-versicolor']\n",
      " ['5.6' '2.7' '4.2' '1.3' 'Iris-versicolor']\n",
      " ['5.7' '3.0' '4.2' '1.2' 'Iris-versicolor']\n",
      " ['5.7' '2.9' '4.2' '1.3' 'Iris-versicolor']\n",
      " ['6.2' '2.9' '4.3' '1.3' 'Iris-versicolor']\n",
      " ['5.1' '2.5' '3.0' '1.1' 'Iris-versicolor']\n",
      " ['5.7' '2.8' '4.1' '1.3' 'Iris-versicolor']\n",
      " ['6.3' '3.3' '6.0' '2.5' 'Iris-virginica']\n",
      " ['5.8' '2.7' '5.1' '1.9' 'Iris-virginica']\n",
      " ['7.1' '3.0' '5.9' '2.1' 'Iris-virginica']\n",
      " ['6.3' '2.9' '5.6' '1.8' 'Iris-virginica']\n",
      " ['6.5' '3.0' '5.8' '2.2' 'Iris-virginica']\n",
      " ['7.6' '3.0' '6.6' '2.1' 'Iris-virginica']\n",
      " ['4.9' '2.5' '4.5' '1.7' 'Iris-virginica']\n",
      " ['7.3' '2.9' '6.3' '1.8' 'Iris-virginica']\n",
      " ['6.7' '2.5' '5.8' '1.8' 'Iris-virginica']\n",
      " ['7.2' '3.6' '6.1' '2.5' 'Iris-virginica']\n",
      " ['6.5' '3.2' '5.1' '2.0' 'Iris-virginica']\n",
      " ['6.4' '2.7' '5.3' '1.9' 'Iris-virginica']\n",
      " ['6.8' '3.0' '5.5' '2.1' 'Iris-virginica']\n",
      " ['5.7' '2.5' '5.0' '2.0' 'Iris-virginica']\n",
      " ['5.8' '2.8' '5.1' '2.4' 'Iris-virginica']\n",
      " ['6.4' '3.2' '5.3' '2.3' 'Iris-virginica']\n",
      " ['6.5' '3.0' '5.5' '1.8' 'Iris-virginica']\n",
      " ['7.7' '3.8' '6.7' '2.2' 'Iris-virginica']\n",
      " ['7.7' '2.6' '6.9' '2.3' 'Iris-virginica']\n",
      " ['6.0' '2.2' '5.0' '1.5' 'Iris-virginica']\n",
      " ['6.9' '3.2' '5.7' '2.3' 'Iris-virginica']\n",
      " ['5.6' '2.8' '4.9' '2.0' 'Iris-virginica']\n",
      " ['7.7' '2.8' '6.7' '2.0' 'Iris-virginica']\n",
      " ['6.3' '2.7' '4.9' '1.8' 'Iris-virginica']\n",
      " ['6.7' '3.3' '5.7' '2.1' 'Iris-virginica']\n",
      " ['7.2' '3.2' '6.0' '1.8' 'Iris-virginica']\n",
      " ['6.2' '2.8' '4.8' '1.8' 'Iris-virginica']\n",
      " ['6.1' '3.0' '4.9' '1.8' 'Iris-virginica']\n",
      " ['6.4' '2.8' '5.6' '2.1' 'Iris-virginica']\n",
      " ['7.2' '3.0' '5.8' '1.6' 'Iris-virginica']\n",
      " ['7.4' '2.8' '6.1' '1.9' 'Iris-virginica']\n",
      " ['7.9' '3.8' '6.4' '2.0' 'Iris-virginica']\n",
      " ['6.4' '2.8' '5.6' '2.2' 'Iris-virginica']\n",
      " ['6.3' '2.8' '5.1' '1.5' 'Iris-virginica']\n",
      " ['6.1' '2.6' '5.6' '1.4' 'Iris-virginica']\n",
      " ['7.7' '3.0' '6.1' '2.3' 'Iris-virginica']\n",
      " ['6.3' '3.4' '5.6' '2.4' 'Iris-virginica']\n",
      " ['6.4' '3.1' '5.5' '1.8' 'Iris-virginica']\n",
      " ['6.0' '3.0' '4.8' '1.8' 'Iris-virginica']\n",
      " ['6.9' '3.1' '5.4' '2.1' 'Iris-virginica']\n",
      " ['6.7' '3.1' '5.6' '2.4' 'Iris-virginica']\n",
      " ['6.9' '3.1' '5.1' '2.3' 'Iris-virginica']\n",
      " ['5.8' '2.7' '5.1' '1.9' 'Iris-virginica']\n",
      " ['6.8' '3.2' '5.9' '2.3' 'Iris-virginica']\n",
      " ['6.7' '3.3' '5.7' '2.5' 'Iris-virginica']\n",
      " ['6.7' '3.0' '5.2' '2.3' 'Iris-virginica']\n",
      " ['6.3' '2.5' '5.0' '1.9' 'Iris-virginica']\n",
      " ['6.5' '3.0' '5.2' '2.0' 'Iris-virginica']\n",
      " ['6.2' '3.4' '5.4' '2.3' 'Iris-virginica']\n",
      " ['5.9' '3.0' '5.1' '1.8' 'Iris-virginica']]\n"
     ]
    }
   ],
   "source": [
    "import numpy as np\n",
    "\n",
    "filename = '../datasets/iris.data'\n",
    "\n",
    "data = np.loadtxt(filename, delimiter=',', dtype=str)\n",
    "\n",
    "print(data.nbytes)\n",
    "print(data)"
   ]
  },
  {
   "cell_type": "code",
   "execution_count": 155,
   "metadata": {},
   "outputs": [
    {
     "name": "stdout",
     "output_type": "stream",
     "text": [
      "4800\n",
      "[[ 5.1  3.5  1.4  0.2]\n",
      " [ 4.9  3.   1.4  0.2]\n",
      " [ 4.7  3.2  1.3  0.2]\n",
      " [ 4.6  3.1  1.5  0.2]\n",
      " [ 5.   3.6  1.4  0.2]]\n",
      "1200\n",
      "['Iris-setosa' 'Iris-setosa' 'Iris-setosa' 'Iris-setosa' 'Iris-setosa']\n"
     ]
    }
   ],
   "source": [
    "import numpy as np\n",
    "\n",
    "filename = '../datasets/iris.data'\n",
    "\n",
    "data = np.loadtxt(filename, delimiter=',', skiprows=1, usecols=range(4))\n",
    "\n",
    "print(data.nbytes)\n",
    "print(data[:5,:])\n",
    "\n",
    "labels = np.loadtxt(filename, delimiter=',', skiprows=1, usecols=4, dtype=object)\n",
    "\n",
    "\n",
    "print(labels.nbytes)\n",
    "print(labels[:5])"
   ]
  },
  {
   "cell_type": "code",
   "execution_count": 156,
   "metadata": {},
   "outputs": [
    {
     "name": "stdout",
     "output_type": "stream",
     "text": [
      "6000\n",
      "float64\n",
      "[[ 5.1  3.5  1.4  0.2  0. ]\n",
      " [ 4.9  3.   1.4  0.2  0. ]\n",
      " [ 4.7  3.2  1.3  0.2  0. ]\n",
      " [ 4.6  3.1  1.5  0.2  0. ]\n",
      " [ 5.   3.6  1.4  0.2  0. ]\n",
      " [ 5.4  3.9  1.7  0.4  0. ]\n",
      " [ 4.6  3.4  1.4  0.3  0. ]\n",
      " [ 5.   3.4  1.5  0.2  0. ]\n",
      " [ 4.4  2.9  1.4  0.2  0. ]\n",
      " [ 4.9  3.1  1.5  0.1  0. ]\n",
      " [ 5.4  3.7  1.5  0.2  0. ]\n",
      " [ 4.8  3.4  1.6  0.2  0. ]\n",
      " [ 4.8  3.   1.4  0.1  0. ]\n",
      " [ 4.3  3.   1.1  0.1  0. ]\n",
      " [ 5.8  4.   1.2  0.2  0. ]\n",
      " [ 5.7  4.4  1.5  0.4  0. ]\n",
      " [ 5.4  3.9  1.3  0.4  0. ]\n",
      " [ 5.1  3.5  1.4  0.3  0. ]\n",
      " [ 5.7  3.8  1.7  0.3  0. ]\n",
      " [ 5.1  3.8  1.5  0.3  0. ]\n",
      " [ 5.4  3.4  1.7  0.2  0. ]\n",
      " [ 5.1  3.7  1.5  0.4  0. ]\n",
      " [ 4.6  3.6  1.   0.2  0. ]\n",
      " [ 5.1  3.3  1.7  0.5  0. ]\n",
      " [ 4.8  3.4  1.9  0.2  0. ]\n",
      " [ 5.   3.   1.6  0.2  0. ]\n",
      " [ 5.   3.4  1.6  0.4  0. ]\n",
      " [ 5.2  3.5  1.5  0.2  0. ]\n",
      " [ 5.2  3.4  1.4  0.2  0. ]\n",
      " [ 4.7  3.2  1.6  0.2  0. ]\n",
      " [ 4.8  3.1  1.6  0.2  0. ]\n",
      " [ 5.4  3.4  1.5  0.4  0. ]\n",
      " [ 5.2  4.1  1.5  0.1  0. ]\n",
      " [ 5.5  4.2  1.4  0.2  0. ]\n",
      " [ 4.9  3.1  1.5  0.1  0. ]\n",
      " [ 5.   3.2  1.2  0.2  0. ]\n",
      " [ 5.5  3.5  1.3  0.2  0. ]\n",
      " [ 4.9  3.1  1.5  0.1  0. ]\n",
      " [ 4.4  3.   1.3  0.2  0. ]\n",
      " [ 5.1  3.4  1.5  0.2  0. ]\n",
      " [ 5.   3.5  1.3  0.3  0. ]\n",
      " [ 4.5  2.3  1.3  0.3  0. ]\n",
      " [ 4.4  3.2  1.3  0.2  0. ]\n",
      " [ 5.   3.5  1.6  0.6  0. ]\n",
      " [ 5.1  3.8  1.9  0.4  0. ]\n",
      " [ 4.8  3.   1.4  0.3  0. ]\n",
      " [ 5.1  3.8  1.6  0.2  0. ]\n",
      " [ 4.6  3.2  1.4  0.2  0. ]\n",
      " [ 5.3  3.7  1.5  0.2  0. ]\n",
      " [ 5.   3.3  1.4  0.2  0. ]\n",
      " [ 7.   3.2  4.7  1.4  1. ]\n",
      " [ 6.4  3.2  4.5  1.5  1. ]\n",
      " [ 6.9  3.1  4.9  1.5  1. ]\n",
      " [ 5.5  2.3  4.   1.3  1. ]\n",
      " [ 6.5  2.8  4.6  1.5  1. ]\n",
      " [ 5.7  2.8  4.5  1.3  1. ]\n",
      " [ 6.3  3.3  4.7  1.6  1. ]\n",
      " [ 4.9  2.4  3.3  1.   1. ]\n",
      " [ 6.6  2.9  4.6  1.3  1. ]\n",
      " [ 5.2  2.7  3.9  1.4  1. ]\n",
      " [ 5.   2.   3.5  1.   1. ]\n",
      " [ 5.9  3.   4.2  1.5  1. ]\n",
      " [ 6.   2.2  4.   1.   1. ]\n",
      " [ 6.1  2.9  4.7  1.4  1. ]\n",
      " [ 5.6  2.9  3.6  1.3  1. ]\n",
      " [ 6.7  3.1  4.4  1.4  1. ]\n",
      " [ 5.6  3.   4.5  1.5  1. ]\n",
      " [ 5.8  2.7  4.1  1.   1. ]\n",
      " [ 6.2  2.2  4.5  1.5  1. ]\n",
      " [ 5.6  2.5  3.9  1.1  1. ]\n",
      " [ 5.9  3.2  4.8  1.8  1. ]\n",
      " [ 6.1  2.8  4.   1.3  1. ]\n",
      " [ 6.3  2.5  4.9  1.5  1. ]\n",
      " [ 6.1  2.8  4.7  1.2  1. ]\n",
      " [ 6.4  2.9  4.3  1.3  1. ]\n",
      " [ 6.6  3.   4.4  1.4  1. ]\n",
      " [ 6.8  2.8  4.8  1.4  1. ]\n",
      " [ 6.7  3.   5.   1.7  1. ]\n",
      " [ 6.   2.9  4.5  1.5  1. ]\n",
      " [ 5.7  2.6  3.5  1.   1. ]\n",
      " [ 5.5  2.4  3.8  1.1  1. ]\n",
      " [ 5.5  2.4  3.7  1.   1. ]\n",
      " [ 5.8  2.7  3.9  1.2  1. ]\n",
      " [ 6.   2.7  5.1  1.6  1. ]\n",
      " [ 5.4  3.   4.5  1.5  1. ]\n",
      " [ 6.   3.4  4.5  1.6  1. ]\n",
      " [ 6.7  3.1  4.7  1.5  1. ]\n",
      " [ 6.3  2.3  4.4  1.3  1. ]\n",
      " [ 5.6  3.   4.1  1.3  1. ]\n",
      " [ 5.5  2.5  4.   1.3  1. ]\n",
      " [ 5.5  2.6  4.4  1.2  1. ]\n",
      " [ 6.1  3.   4.6  1.4  1. ]\n",
      " [ 5.8  2.6  4.   1.2  1. ]\n",
      " [ 5.   2.3  3.3  1.   1. ]\n",
      " [ 5.6  2.7  4.2  1.3  1. ]\n",
      " [ 5.7  3.   4.2  1.2  1. ]\n",
      " [ 5.7  2.9  4.2  1.3  1. ]\n",
      " [ 6.2  2.9  4.3  1.3  1. ]\n",
      " [ 5.1  2.5  3.   1.1  1. ]\n",
      " [ 5.7  2.8  4.1  1.3  1. ]\n",
      " [ 6.3  3.3  6.   2.5  2. ]\n",
      " [ 5.8  2.7  5.1  1.9  2. ]\n",
      " [ 7.1  3.   5.9  2.1  2. ]\n",
      " [ 6.3  2.9  5.6  1.8  2. ]\n",
      " [ 6.5  3.   5.8  2.2  2. ]\n",
      " [ 7.6  3.   6.6  2.1  2. ]\n",
      " [ 4.9  2.5  4.5  1.7  2. ]\n",
      " [ 7.3  2.9  6.3  1.8  2. ]\n",
      " [ 6.7  2.5  5.8  1.8  2. ]\n",
      " [ 7.2  3.6  6.1  2.5  2. ]\n",
      " [ 6.5  3.2  5.1  2.   2. ]\n",
      " [ 6.4  2.7  5.3  1.9  2. ]\n",
      " [ 6.8  3.   5.5  2.1  2. ]\n",
      " [ 5.7  2.5  5.   2.   2. ]\n",
      " [ 5.8  2.8  5.1  2.4  2. ]\n",
      " [ 6.4  3.2  5.3  2.3  2. ]\n",
      " [ 6.5  3.   5.5  1.8  2. ]\n",
      " [ 7.7  3.8  6.7  2.2  2. ]\n",
      " [ 7.7  2.6  6.9  2.3  2. ]\n",
      " [ 6.   2.2  5.   1.5  2. ]\n",
      " [ 6.9  3.2  5.7  2.3  2. ]\n",
      " [ 5.6  2.8  4.9  2.   2. ]\n",
      " [ 7.7  2.8  6.7  2.   2. ]\n",
      " [ 6.3  2.7  4.9  1.8  2. ]\n",
      " [ 6.7  3.3  5.7  2.1  2. ]\n",
      " [ 7.2  3.2  6.   1.8  2. ]\n",
      " [ 6.2  2.8  4.8  1.8  2. ]\n",
      " [ 6.1  3.   4.9  1.8  2. ]\n",
      " [ 6.4  2.8  5.6  2.1  2. ]\n",
      " [ 7.2  3.   5.8  1.6  2. ]\n",
      " [ 7.4  2.8  6.1  1.9  2. ]\n",
      " [ 7.9  3.8  6.4  2.   2. ]\n",
      " [ 6.4  2.8  5.6  2.2  2. ]\n",
      " [ 6.3  2.8  5.1  1.5  2. ]\n",
      " [ 6.1  2.6  5.6  1.4  2. ]\n",
      " [ 7.7  3.   6.1  2.3  2. ]\n",
      " [ 6.3  3.4  5.6  2.4  2. ]\n",
      " [ 6.4  3.1  5.5  1.8  2. ]\n",
      " [ 6.   3.   4.8  1.8  2. ]\n",
      " [ 6.9  3.1  5.4  2.1  2. ]\n",
      " [ 6.7  3.1  5.6  2.4  2. ]\n",
      " [ 6.9  3.1  5.1  2.3  2. ]\n",
      " [ 5.8  2.7  5.1  1.9  2. ]\n",
      " [ 6.8  3.2  5.9  2.3  2. ]\n",
      " [ 6.7  3.3  5.7  2.5  2. ]\n",
      " [ 6.7  3.   5.2  2.3  2. ]\n",
      " [ 6.3  2.5  5.   1.9  2. ]\n",
      " [ 6.5  3.   5.2  2.   2. ]\n",
      " [ 6.2  3.4  5.4  2.3  2. ]\n",
      " [ 5.9  3.   5.1  1.8  2. ]]\n"
     ]
    }
   ],
   "source": [
    "import numpy as np\n",
    "\n",
    "filename = '../datasets/iris.data'\n",
    "\n",
    "classes = {b'Iris-setosa': 0,\n",
    "           b'Iris-versicolor': 1,\n",
    "           b'Iris-virginica': 2}\n",
    "\n",
    "classes_converter = {4: lambda c: classes[c]}\n",
    "\n",
    "data = np.loadtxt(filename, delimiter=',', skiprows=1, converters=classes_converter)\n",
    "\n",
    "print(data.nbytes)\n",
    "print(data.dtype)\n",
    "print(data)"
   ]
  },
  {
   "cell_type": "code",
   "execution_count": 157,
   "metadata": {},
   "outputs": [
    {
     "name": "stdout",
     "output_type": "stream",
     "text": [
      "[ 4.6  3.1  1.5  0.2  0. ]\n"
     ]
    }
   ],
   "source": [
    "i = 3\n",
    "xi = data[i]\n",
    "print(xi)"
   ]
  },
  {
   "cell_type": "code",
   "execution_count": 158,
   "metadata": {},
   "outputs": [
    {
     "name": "stdout",
     "output_type": "stream",
     "text": [
      "[ 3.5  3.   3.2  3.1  3.6  3.9  3.4  3.4  2.9  3.1  3.7  3.4  3.   3.   4.\n",
      "  4.4  3.9  3.5  3.8  3.8  3.4  3.7  3.6  3.3  3.4  3.   3.4  3.5  3.4  3.2\n",
      "  3.1  3.4  4.1  4.2  3.1  3.2  3.5  3.1  3.   3.4  3.5  2.3  3.2  3.5  3.8\n",
      "  3.   3.8  3.2  3.7  3.3  3.2  3.2  3.1  2.3  2.8  2.8  3.3  2.4  2.9  2.7\n",
      "  2.   3.   2.2  2.9  2.9  3.1  3.   2.7  2.2  2.5  3.2  2.8  2.5  2.8  2.9\n",
      "  3.   2.8  3.   2.9  2.6  2.4  2.4  2.7  2.7  3.   3.4  3.1  2.3  3.   2.5\n",
      "  2.6  3.   2.6  2.3  2.7  3.   2.9  2.9  2.5  2.8  3.3  2.7  3.   2.9  3.\n",
      "  3.   2.5  2.9  2.5  3.6  3.2  2.7  3.   2.5  2.8  3.2  3.   3.8  2.6  2.2\n",
      "  3.2  2.8  2.8  2.7  3.3  3.2  2.8  3.   2.8  3.   2.8  3.8  2.8  2.8  2.6\n",
      "  3.   3.4  3.1  3.   3.1  3.1  3.1  2.7  3.2  3.3  3.   2.5  3.   3.4  3. ]\n"
     ]
    }
   ],
   "source": [
    "j = 1\n",
    "Xj = data[:,j]\n",
    "print(Xj)"
   ]
  },
  {
   "cell_type": "code",
   "execution_count": 159,
   "metadata": {},
   "outputs": [
    {
     "name": "stdout",
     "output_type": "stream",
     "text": [
      "[[ 5.1  3.5  1.4  0.2  0. ]\n",
      " [ 4.9  3.   1.4  0.2  0. ]\n",
      " [ 4.7  3.2  1.3  0.2  0. ]\n",
      " [ 4.6  3.1  1.5  0.2  0. ]\n",
      " [ 5.   3.6  1.4  0.2  0. ]]\n"
     ]
    }
   ],
   "source": [
    "print(data[0:5,:])"
   ]
  },
  {
   "cell_type": "code",
   "execution_count": 160,
   "metadata": {},
   "outputs": [
    {
     "name": "stdout",
     "output_type": "stream",
     "text": [
      "[ 3.5  3.   3.2  3.1  3.6]\n"
     ]
    }
   ],
   "source": [
    "Xj = data[0:5,j]\n",
    "print(Xj)"
   ]
  },
  {
   "cell_type": "code",
   "execution_count": 178,
   "metadata": {},
   "outputs": [
    {
     "data": {
      "text/html": [
       "<div>\n",
       "<style>\n",
       "    .dataframe thead tr:only-child th {\n",
       "        text-align: right;\n",
       "    }\n",
       "\n",
       "    .dataframe thead th {\n",
       "        text-align: left;\n",
       "    }\n",
       "\n",
       "    .dataframe tbody tr th {\n",
       "        vertical-align: top;\n",
       "    }\n",
       "</style>\n",
       "<table border=\"1\" class=\"dataframe\">\n",
       "  <thead>\n",
       "    <tr style=\"text-align: right;\">\n",
       "      <th></th>\n",
       "      <th>SepalLength</th>\n",
       "      <th>SepalWidth</th>\n",
       "      <th>PetalLength</th>\n",
       "      <th>PetalWidth</th>\n",
       "      <th>Name</th>\n",
       "    </tr>\n",
       "  </thead>\n",
       "  <tbody>\n",
       "    <tr>\n",
       "      <th>0</th>\n",
       "      <td>5.1</td>\n",
       "      <td>3.5</td>\n",
       "      <td>1.4</td>\n",
       "      <td>0.2</td>\n",
       "      <td>Iris-setosa</td>\n",
       "    </tr>\n",
       "    <tr>\n",
       "      <th>1</th>\n",
       "      <td>4.9</td>\n",
       "      <td>3.0</td>\n",
       "      <td>1.4</td>\n",
       "      <td>0.2</td>\n",
       "      <td>Iris-setosa</td>\n",
       "    </tr>\n",
       "    <tr>\n",
       "      <th>2</th>\n",
       "      <td>4.7</td>\n",
       "      <td>3.2</td>\n",
       "      <td>1.3</td>\n",
       "      <td>0.2</td>\n",
       "      <td>Iris-setosa</td>\n",
       "    </tr>\n",
       "    <tr>\n",
       "      <th>3</th>\n",
       "      <td>4.6</td>\n",
       "      <td>3.1</td>\n",
       "      <td>1.5</td>\n",
       "      <td>0.2</td>\n",
       "      <td>Iris-setosa</td>\n",
       "    </tr>\n",
       "    <tr>\n",
       "      <th>4</th>\n",
       "      <td>5.0</td>\n",
       "      <td>3.6</td>\n",
       "      <td>1.4</td>\n",
       "      <td>0.2</td>\n",
       "      <td>Iris-setosa</td>\n",
       "    </tr>\n",
       "  </tbody>\n",
       "</table>\n",
       "</div>"
      ],
      "text/plain": [
       "   SepalLength  SepalWidth  PetalLength  PetalWidth         Name\n",
       "0          5.1         3.5          1.4         0.2  Iris-setosa\n",
       "1          4.9         3.0          1.4         0.2  Iris-setosa\n",
       "2          4.7         3.2          1.3         0.2  Iris-setosa\n",
       "3          4.6         3.1          1.5         0.2  Iris-setosa\n",
       "4          5.0         3.6          1.4         0.2  Iris-setosa"
      ]
     },
     "execution_count": 178,
     "metadata": {},
     "output_type": "execute_result"
    }
   ],
   "source": [
    "import pandas\n",
    "\n",
    "df = pandas.read_csv('../datasets/iris.data')\n",
    "\n",
    "df.head()"
   ]
  },
  {
   "cell_type": "code",
   "execution_count": 162,
   "metadata": {},
   "outputs": [
    {
     "data": {
      "text/plain": [
       "pandas.core.frame.DataFrame"
      ]
     },
     "execution_count": 162,
     "metadata": {},
     "output_type": "execute_result"
    }
   ],
   "source": [
    "type(df)"
   ]
  },
  {
   "cell_type": "code",
   "execution_count": 163,
   "metadata": {},
   "outputs": [
    {
     "data": {
      "text/plain": [
       "(150, 5)"
      ]
     },
     "execution_count": 163,
     "metadata": {},
     "output_type": "execute_result"
    }
   ],
   "source": [
    "df.shape"
   ]
  },
  {
   "cell_type": "code",
   "execution_count": 164,
   "metadata": {},
   "outputs": [
    {
     "name": "stdout",
     "output_type": "stream",
     "text": [
      "<class 'pandas.core.frame.DataFrame'>\n",
      "RangeIndex: 150 entries, 0 to 149\n",
      "Data columns (total 5 columns):\n",
      "SepalLength    150 non-null float64\n",
      "SepalWidth     150 non-null float64\n",
      "PetalLength    150 non-null float64\n",
      "PetalWidth     150 non-null float64\n",
      "Name           150 non-null object\n",
      "dtypes: float64(4), object(1)\n",
      "memory usage: 5.9+ KB\n"
     ]
    }
   ],
   "source": [
    "df.info()"
   ]
  },
  {
   "cell_type": "code",
   "execution_count": 165,
   "metadata": {},
   "outputs": [
    {
     "name": "stdout",
     "output_type": "stream",
     "text": [
      "SepalLength            4.6\n",
      "SepalWidth             3.1\n",
      "PetalLength            1.5\n",
      "PetalWidth             0.2\n",
      "Name           Iris-setosa\n",
      "Name: 3, dtype: object\n"
     ]
    }
   ],
   "source": [
    "i = 3\n",
    "xi = df.iloc[i]\n",
    "print(xi)"
   ]
  },
  {
   "cell_type": "code",
   "execution_count": 166,
   "metadata": {},
   "outputs": [
    {
     "name": "stdout",
     "output_type": "stream",
     "text": [
      "0    3.5\n",
      "1    3.0\n",
      "2    3.2\n",
      "3    3.1\n",
      "4    3.6\n",
      "Name: SepalWidth, dtype: float64\n",
      "<class 'pandas.core.series.Series'>\n"
     ]
    }
   ],
   "source": [
    "j = 1\n",
    "Xj = df.iloc[:,j]\n",
    "print(Xj[:5])\n",
    "print(type(Xj))"
   ]
  },
  {
   "cell_type": "code",
   "execution_count": 167,
   "metadata": {},
   "outputs": [
    {
     "data": {
      "text/plain": [
       "0    3.5\n",
       "1    3.0\n",
       "2    3.2\n",
       "3    3.1\n",
       "4    3.6\n",
       "Name: SepalWidth, dtype: float64"
      ]
     },
     "execution_count": 167,
     "metadata": {},
     "output_type": "execute_result"
    }
   ],
   "source": [
    "df['SepalWidth'][:5]"
   ]
  },
  {
   "cell_type": "code",
   "execution_count": 168,
   "metadata": {},
   "outputs": [
    {
     "data": {
      "text/plain": [
       "0    Iris-setosa\n",
       "1    Iris-setosa\n",
       "2    Iris-setosa\n",
       "3    Iris-setosa\n",
       "4    Iris-setosa\n",
       "Name: Name, dtype: object"
      ]
     },
     "execution_count": 168,
     "metadata": {},
     "output_type": "execute_result"
    }
   ],
   "source": [
    "df['Name'][:5]"
   ]
  },
  {
   "cell_type": "markdown",
   "metadata": {},
   "source": [
    "## Attributes\n",
    "\n",
    "* Numeric attributes\n",
    "\n",
    "* Categorical attributes"
   ]
  },
  {
   "cell_type": "markdown",
   "metadata": {},
   "source": [
    "## Numeric (quantitative) Attributes\n",
    "\n",
    "* `domain(age)` = $\\mathbb{N}$\n",
    "* `domain(petal length)` = $\\mathbb{R}_{>0}$\n",
    "* **discrete** : finite or countably infinite set of values\n",
    "* **continuous** : any real value\n",
    "\n",
    "**Measurement scales**\n",
    "\n",
    "* **Interval scale** :\n",
    "    * Only addition and substration make sense. \n",
    "    * The *zero point* does not indicate the absence of measurement. \n",
    "    * The `temperature` measured in $^{\\circ}C$ is interval-scaled. If two measurements of $20 ^{\\circ}C$ and $10 ^{\\circ}C$ are compared, what is the right statement ?\n",
    "        * There is a temperature drop of $10 ^{\\circ}C$.\n",
    "        * The second measure is twice as cold as the first one.\n",
    "* **Ratio scale**\n",
    "    * Addition, substraction, and ratio make sense.\n",
    "    * The `Age` attribute is ratio-scaled.\n",
    "    * The `temperature` mesured in *Kelvin* is ratio-scaled. "
   ]
  },
  {
   "cell_type": "markdown",
   "metadata": {},
   "source": [
    "## Categorical (qualitative) Attributes\n",
    "* A set of symbols, for example : \n",
    "    * `domain(Education) = {HighSchool, BS, MS, PhD}`\n",
    "    * `domain(Fruits) = {Orange, Apple}`\n",
    "\n",
    "**Measurement scales**\n",
    "\n",
    "* **Nominal scale** : values are *unordered* \n",
    "* **Ordinal scale** : values are *ordered* "
   ]
  },
  {
   "cell_type": "markdown",
   "metadata": {},
   "source": [
    "## Geometric View"
   ]
  },
  {
   "cell_type": "code",
   "execution_count": 169,
   "metadata": {},
   "outputs": [
    {
     "data": {
      "text/plain": [
       "<matplotlib.collections.PathCollection at 0x7f3d0f8246a0>"
      ]
     },
     "execution_count": 169,
     "metadata": {},
     "output_type": "execute_result"
    }
   ],
   "source": [
    "fig, ax = plt.subplots()\n",
    "\n",
    "ax.set_xlabel('Sepal length')\n",
    "ax.set_ylabel('Sepal width')\n",
    "\n",
    "X = data[:,0:4]\n",
    "Y = data[:,4]\n",
    "\n",
    "ax.scatter(X[:, 0], X[:, 1], c=Y)"
   ]
  },
  {
   "cell_type": "code",
   "execution_count": 170,
   "metadata": {
    "collapsed": true
   },
   "outputs": [],
   "source": [
    "fig, axs = plt.subplots(4, 4)\n",
    "\n",
    "attributes = ['sepal length', 'sepal width', 'petal length', 'petal width']\n",
    "\n",
    "for i in range(4):\n",
    "    axs[i, 0].set_ylabel(attributes[i])\n",
    "    axs[-1, i].set_xlabel(attributes[i])\n",
    "    for j in range(4):\n",
    "        axs[i, j].scatter(X[:, i], X[:, j], c=Y)\n",
    "\n",
    "plt.tight_layout(pad=1)"
   ]
  },
  {
   "cell_type": "markdown",
   "metadata": {},
   "source": [
    "### Data binning"
   ]
  },
  {
   "cell_type": "code",
   "execution_count": 171,
   "metadata": {},
   "outputs": [],
   "source": [
    "fig, ax = plt.subplots()\n",
    "hist = ax.hist([1,1,1,2,2,4,4], bins=3, edgecolor='black', linewidth=1)"
   ]
  },
  {
   "cell_type": "code",
   "execution_count": 172,
   "metadata": {},
   "outputs": [
    {
     "name": "stdout",
     "output_type": "stream",
     "text": [
      "Size : 2.0\n",
      "[1 1 1 2 2]\n",
      "[3 3 4 4]\n",
      "[5 6 7]\n"
     ]
    }
   ],
   "source": [
    "fig, ax = plt.subplots()\n",
    "\n",
    "values = np.array([1, 1, 1, 2, 2, 3, 3, 4, 4, 5, 6, 7])\n",
    "\n",
    "nbins = 3\n",
    "size = (max(values) - min(values)) / nbins\n",
    "print('Size :', size)\n",
    "\n",
    "ax.hist(values, bins=3, edgecolor='black', linewidth=1)\n",
    "\n",
    "ax.set_xticks([1, 1 + size, 1 + 2*size, 1 + 3*size])\n",
    "\n",
    "print(values[values < 1 + size])\n",
    "print(values[(1 + size <= values) & (values < 1 + 2*size)])\n",
    "print(values[(1 + 2*size <= values) & (values <= 1 + 3*size)])"
   ]
  },
  {
   "cell_type": "code",
   "execution_count": 173,
   "metadata": {},
   "outputs": [
    {
     "data": {
      "text/plain": [
       "<matplotlib.text.Text at 0x7f3d0f2f0c50>"
      ]
     },
     "execution_count": 173,
     "metadata": {},
     "output_type": "execute_result"
    }
   ],
   "source": [
    "fig, ax = plt.subplots()\n",
    "\n",
    "_, bins, _ = ax.hist(X[:,0], bins=10, edgecolor='black', linewidth=1)\n",
    "ax.set_xticks(bins)\n",
    "ax.set_xlabel(attributes[0])"
   ]
  },
  {
   "cell_type": "markdown",
   "metadata": {},
   "source": [
    "## Dependency-oriented data\n",
    "\n",
    "Relationships between data items :\n",
    "\n",
    "* **Time-Series** : data generated by continouous measurement over time\n",
    "    * *environmental sensor* : temperature, pressure\n",
    "    * *finantial market analysis*\n",
    "* **Discrete Sequences**\n",
    "    * *event logs* such as web accesses : Client IP, Web page address\n",
    "    * *strings*\n",
    "* **Spatial** : non-spatial attributes measured at spatial locations\n",
    "    * *hurricane forecasting* : sea-surface temperature, pressure\n",
    "* **Spatiotemporal**\n",
    "* **Network and Graph Data**\n",
    "    * *Web graph*\n",
    "    * *Social networks*\n",
    "\n"
   ]
  },
  {
   "cell_type": "code",
   "execution_count": 202,
   "metadata": {},
   "outputs": [
    {
     "name": "stdout",
     "output_type": "stream",
     "text": [
      "2017-09-25 08:30:00    18.111259\n",
      "2017-09-25 08:30:03    18.517365\n",
      "2017-09-25 08:30:06    19.980085\n",
      "2017-09-25 08:30:09    19.905471\n",
      "2017-09-25 08:30:12    22.138376\n",
      "Freq: 3S, dtype: float64\n"
     ]
    },
    {
     "data": {
      "text/plain": [
       "19.905471205177083"
      ]
     },
     "execution_count": 202,
     "metadata": {},
     "output_type": "execute_result"
    }
   ],
   "source": [
    "rng = pandas.date_range('2017-09-25 08:30:00', periods=30, freq='3s')\n",
    "temperatures = np.random.randn(len(rng))*2 + 20\n",
    "ts = pandas.Series(temperatures, index=rng)\n",
    "print(ts.head())\n",
    "ts[pandas.Timestamp('2017-09-25 08:30:09')]"
   ]
  },
  {
   "cell_type": "markdown",
   "metadata": {},
   "source": [
    "## Text Data\n",
    "\n",
    "* A **string** : a discrete sequence of characters\n",
    "* **Vector-space representation** : words (terms) frequencies (normalized with respect to the document length)\n",
    "    * **Document-term matrix** : $n$ documents $\\times$ $d$ terms"
   ]
  },
  {
   "cell_type": "code",
   "execution_count": null,
   "metadata": {},
   "outputs": [],
   "source": [
    "# import scikit-learn : Machine Learning in Python\n",
    "\n",
    "# See : http://scikit-learn.org/stable/modules/feature_extraction.html\n",
    "# and and http://scikit-learn.org/stable/modules/generated/sklearn.feature_extraction.text.CountVectorizer.html\n",
    "from sklearn.feature_extraction.text import CountVectorizer\n",
    "\n",
    "# CountVectorizer : Convert a collection of text documents to a matrix of token counts\n",
    "vectorizer = CountVectorizer()\n",
    "\n",
    "corpus = ['This is the first document.',\n",
    "          'This is the second second document.',\n",
    "          'And the third one.',\n",
    "          'Is this the first document?']\n",
    "\n",
    "# Learn the vocabulary dictionary and return term-document matrix.\n",
    "X = vectorizer.fit_transform(corpus)\n",
    "print(vectorizer.get_feature_names())\n",
    "X.toarray()"
   ]
  },
  {
   "cell_type": "markdown",
   "metadata": {},
   "source": [
    "## Graph Data"
   ]
  },
  {
   "cell_type": "markdown",
   "metadata": {},
   "source": [
    "A graph $G = (V, E)$ with $n$ ***vertices*** and $m$ ***edges*** consists of:\n",
    "\n",
    "* $V = V(G)$ : a vertex set; $n = |V|$ is the order of $G$\n",
    "* $E = E(G)$ : a set of pairs of vertices, called edges; $m = |E|$\n",
    "\n",
    "A ***weighted graph*** is a graph $G = (V, E)$ in which each edge $e \\in E(G)$ is given a numerical weight $w(e)$, where $w : E \\rightarrow \\mathbb{R}$."
   ]
  },
  {
   "cell_type": "code",
   "execution_count": null,
   "metadata": {
    "collapsed": true
   },
   "outputs": [],
   "source": [
    "import networkx as nx\n",
    "    \n",
    "def draw_weighted_graph(g):\n",
    "    pos = nx.spectral_layout(g)\n",
    "    nx.draw_networkx(g, pos)\n",
    "    edge_labels = {edge[0:2]: edge[2]['weight'] for edge in g.edges(data=True)}\n",
    "    nx.draw_networkx_edge_labels(g, pos, edge_labels)\n",
    "\n",
    "g = nx.Graph()\n",
    "    \n",
    "g.add_nodes_from(['Lille', 'Paris', 'Amiens', 'Arras'])\n",
    "g.add_edge('Lille', 'Paris', weight=225)\n",
    "g.add_edge('Lille', 'Amiens', weight=62.7)\n",
    "g.add_edge('Lille', 'Arras', weight=52.7)\n",
    "g.add_edge('Paris', 'Amiens', weight=144.4)\n",
    "g.add_edge('Paris', 'Arras', weight=185.8)\n",
    "g.add_edge('Amiens', 'Arras', weight=62.6)\n",
    "\n",
    "draw_weighted_graph(g)"
   ]
  }
 ],
 "metadata": {
  "kernelspec": {
   "display_name": "Python 3",
   "language": "python",
   "name": "python3"
  },
  "language_info": {
   "codemirror_mode": {
    "name": "ipython",
    "version": 3
   },
   "file_extension": ".py",
   "mimetype": "text/x-python",
   "name": "python",
   "nbconvert_exporter": "python",
   "pygments_lexer": "ipython3",
   "version": "3.6.2"
  }
 },
 "nbformat": 4,
 "nbformat_minor": 1
}
